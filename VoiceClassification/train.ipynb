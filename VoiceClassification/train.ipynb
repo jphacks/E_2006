{
 "cells": [
  {
   "cell_type": "code",
   "execution_count": 4,
   "metadata": {},
   "outputs": [],
   "source": [
    "import wave\n",
    "import soundfile as sf\n",
    "import pandas as pd\n",
    "import numpy as np\n",
    "from glob import glob"
   ]
  },
  {
   "cell_type": "code",
   "execution_count": 2,
   "metadata": {},
   "outputs": [],
   "source": [
    "from sklearn.ensemble import RandomForestClassifier\n",
    "from sklearn.model_selection import cross_val_score"
   ]
  },
  {
   "cell_type": "code",
   "execution_count": 9,
   "metadata": {},
   "outputs": [],
   "source": [
    "yes_file_list = glob(\"data/yes*\")\n",
    "no_file_list = glob(\"data/no*\")\n",
    "category_list = [0 for _ in range(len(no_file_list))] + [1 for _ in range(len(yes_file_list))]"
   ]
  },
  {
   "cell_type": "code",
   "execution_count": 11,
   "metadata": {},
   "outputs": [],
   "source": [
    "file_list =  no_file_list + yes_file_list"
   ]
  },
  {
   "cell_type": "code",
   "execution_count": 13,
   "metadata": {},
   "outputs": [],
   "source": [
    "X = []\n",
    "y = []\n",
    "for file,category in zip(file_list,category_list):\n",
    "    file_sf,_ = sf.read(file)\n",
    "    X.append(file_sf)\n",
    "    y.append(category)"
   ]
  },
  {
   "cell_type": "code",
   "execution_count": 14,
   "metadata": {},
   "outputs": [],
   "source": [
    "X = np.array(X)\n",
    "y = np.array(y)\n",
    "X_fft = np.array([np.fft.fft(x) for x in X])\n",
    "X_fft = np.fft.fft(X)\n",
    "X = np.array(\n",
    "    [np.hstack((x.real**2 + x.imag**2, np.arctan2(x.real, x.imag))) for x in X_fft])"
   ]
  },
  {
   "cell_type": "code",
   "execution_count": 15,
   "metadata": {},
   "outputs": [
    {
     "name": "stderr",
     "output_type": "stream",
     "text": [
      "/Users/kouheiadachi/.pyenv/versions/3.7.7/envs/new_3.7/lib/python3.7/site-packages/sklearn/model_selection/_validation.py:552: FitFailedWarning: Estimator fit failed. The score on this train-test partition for these parameters will be set to nan. Details: \n",
      "Traceback (most recent call last):\n",
      "  File \"/Users/kouheiadachi/.pyenv/versions/3.7.7/envs/new_3.7/lib/python3.7/site-packages/sklearn/model_selection/_validation.py\", line 531, in _fit_and_score\n",
      "    estimator.fit(X_train, y_train, **fit_params)\n",
      "  File \"/Users/kouheiadachi/.pyenv/versions/3.7.7/envs/new_3.7/lib/python3.7/site-packages/sklearn/ensemble/_forest.py\", line 304, in fit\n",
      "    accept_sparse=\"csc\", dtype=DTYPE)\n",
      "  File \"/Users/kouheiadachi/.pyenv/versions/3.7.7/envs/new_3.7/lib/python3.7/site-packages/sklearn/base.py\", line 432, in _validate_data\n",
      "    X, y = check_X_y(X, y, **check_params)\n",
      "  File \"/Users/kouheiadachi/.pyenv/versions/3.7.7/envs/new_3.7/lib/python3.7/site-packages/sklearn/utils/validation.py\", line 73, in inner_f\n",
      "    return f(**kwargs)\n",
      "  File \"/Users/kouheiadachi/.pyenv/versions/3.7.7/envs/new_3.7/lib/python3.7/site-packages/sklearn/utils/validation.py\", line 803, in check_X_y\n",
      "    estimator=estimator)\n",
      "  File \"/Users/kouheiadachi/.pyenv/versions/3.7.7/envs/new_3.7/lib/python3.7/site-packages/sklearn/utils/validation.py\", line 73, in inner_f\n",
      "    return f(**kwargs)\n",
      "  File \"/Users/kouheiadachi/.pyenv/versions/3.7.7/envs/new_3.7/lib/python3.7/site-packages/sklearn/utils/validation.py\", line 642, in check_array\n",
      "    % (array.ndim, estimator_name))\n",
      "ValueError: Found array with dim 3. Estimator expected <= 2.\n",
      "\n",
      "  FitFailedWarning)\n",
      "/Users/kouheiadachi/.pyenv/versions/3.7.7/envs/new_3.7/lib/python3.7/site-packages/sklearn/model_selection/_validation.py:552: FitFailedWarning: Estimator fit failed. The score on this train-test partition for these parameters will be set to nan. Details: \n",
      "Traceback (most recent call last):\n",
      "  File \"/Users/kouheiadachi/.pyenv/versions/3.7.7/envs/new_3.7/lib/python3.7/site-packages/sklearn/model_selection/_validation.py\", line 531, in _fit_and_score\n",
      "    estimator.fit(X_train, y_train, **fit_params)\n",
      "  File \"/Users/kouheiadachi/.pyenv/versions/3.7.7/envs/new_3.7/lib/python3.7/site-packages/sklearn/ensemble/_forest.py\", line 304, in fit\n",
      "    accept_sparse=\"csc\", dtype=DTYPE)\n",
      "  File \"/Users/kouheiadachi/.pyenv/versions/3.7.7/envs/new_3.7/lib/python3.7/site-packages/sklearn/base.py\", line 432, in _validate_data\n",
      "    X, y = check_X_y(X, y, **check_params)\n",
      "  File \"/Users/kouheiadachi/.pyenv/versions/3.7.7/envs/new_3.7/lib/python3.7/site-packages/sklearn/utils/validation.py\", line 73, in inner_f\n",
      "    return f(**kwargs)\n",
      "  File \"/Users/kouheiadachi/.pyenv/versions/3.7.7/envs/new_3.7/lib/python3.7/site-packages/sklearn/utils/validation.py\", line 803, in check_X_y\n",
      "    estimator=estimator)\n",
      "  File \"/Users/kouheiadachi/.pyenv/versions/3.7.7/envs/new_3.7/lib/python3.7/site-packages/sklearn/utils/validation.py\", line 73, in inner_f\n",
      "    return f(**kwargs)\n",
      "  File \"/Users/kouheiadachi/.pyenv/versions/3.7.7/envs/new_3.7/lib/python3.7/site-packages/sklearn/utils/validation.py\", line 642, in check_array\n",
      "    % (array.ndim, estimator_name))\n",
      "ValueError: Found array with dim 3. Estimator expected <= 2.\n",
      "\n",
      "  FitFailedWarning)\n",
      "/Users/kouheiadachi/.pyenv/versions/3.7.7/envs/new_3.7/lib/python3.7/site-packages/sklearn/model_selection/_validation.py:552: FitFailedWarning: Estimator fit failed. The score on this train-test partition for these parameters will be set to nan. Details: \n",
      "Traceback (most recent call last):\n",
      "  File \"/Users/kouheiadachi/.pyenv/versions/3.7.7/envs/new_3.7/lib/python3.7/site-packages/sklearn/model_selection/_validation.py\", line 531, in _fit_and_score\n",
      "    estimator.fit(X_train, y_train, **fit_params)\n",
      "  File \"/Users/kouheiadachi/.pyenv/versions/3.7.7/envs/new_3.7/lib/python3.7/site-packages/sklearn/ensemble/_forest.py\", line 304, in fit\n",
      "    accept_sparse=\"csc\", dtype=DTYPE)\n",
      "  File \"/Users/kouheiadachi/.pyenv/versions/3.7.7/envs/new_3.7/lib/python3.7/site-packages/sklearn/base.py\", line 432, in _validate_data\n",
      "    X, y = check_X_y(X, y, **check_params)\n",
      "  File \"/Users/kouheiadachi/.pyenv/versions/3.7.7/envs/new_3.7/lib/python3.7/site-packages/sklearn/utils/validation.py\", line 73, in inner_f\n",
      "    return f(**kwargs)\n",
      "  File \"/Users/kouheiadachi/.pyenv/versions/3.7.7/envs/new_3.7/lib/python3.7/site-packages/sklearn/utils/validation.py\", line 803, in check_X_y\n",
      "    estimator=estimator)\n",
      "  File \"/Users/kouheiadachi/.pyenv/versions/3.7.7/envs/new_3.7/lib/python3.7/site-packages/sklearn/utils/validation.py\", line 73, in inner_f\n",
      "    return f(**kwargs)\n",
      "  File \"/Users/kouheiadachi/.pyenv/versions/3.7.7/envs/new_3.7/lib/python3.7/site-packages/sklearn/utils/validation.py\", line 642, in check_array\n",
      "    % (array.ndim, estimator_name))\n",
      "ValueError: Found array with dim 3. Estimator expected <= 2.\n",
      "\n",
      "  FitFailedWarning)\n",
      "/Users/kouheiadachi/.pyenv/versions/3.7.7/envs/new_3.7/lib/python3.7/site-packages/sklearn/model_selection/_validation.py:552: FitFailedWarning: Estimator fit failed. The score on this train-test partition for these parameters will be set to nan. Details: \n",
      "Traceback (most recent call last):\n",
      "  File \"/Users/kouheiadachi/.pyenv/versions/3.7.7/envs/new_3.7/lib/python3.7/site-packages/sklearn/model_selection/_validation.py\", line 531, in _fit_and_score\n",
      "    estimator.fit(X_train, y_train, **fit_params)\n",
      "  File \"/Users/kouheiadachi/.pyenv/versions/3.7.7/envs/new_3.7/lib/python3.7/site-packages/sklearn/ensemble/_forest.py\", line 304, in fit\n",
      "    accept_sparse=\"csc\", dtype=DTYPE)\n",
      "  File \"/Users/kouheiadachi/.pyenv/versions/3.7.7/envs/new_3.7/lib/python3.7/site-packages/sklearn/base.py\", line 432, in _validate_data\n",
      "    X, y = check_X_y(X, y, **check_params)\n",
      "  File \"/Users/kouheiadachi/.pyenv/versions/3.7.7/envs/new_3.7/lib/python3.7/site-packages/sklearn/utils/validation.py\", line 73, in inner_f\n",
      "    return f(**kwargs)\n",
      "  File \"/Users/kouheiadachi/.pyenv/versions/3.7.7/envs/new_3.7/lib/python3.7/site-packages/sklearn/utils/validation.py\", line 803, in check_X_y\n",
      "    estimator=estimator)\n",
      "  File \"/Users/kouheiadachi/.pyenv/versions/3.7.7/envs/new_3.7/lib/python3.7/site-packages/sklearn/utils/validation.py\", line 73, in inner_f\n",
      "    return f(**kwargs)\n",
      "  File \"/Users/kouheiadachi/.pyenv/versions/3.7.7/envs/new_3.7/lib/python3.7/site-packages/sklearn/utils/validation.py\", line 642, in check_array\n",
      "    % (array.ndim, estimator_name))\n",
      "ValueError: Found array with dim 3. Estimator expected <= 2.\n",
      "\n",
      "  FitFailedWarning)\n"
     ]
    },
    {
     "name": "stdout",
     "output_type": "stream",
     "text": [
      "score:nan (+/-nan)\n"
     ]
    },
    {
     "name": "stderr",
     "output_type": "stream",
     "text": [
      "/Users/kouheiadachi/.pyenv/versions/3.7.7/envs/new_3.7/lib/python3.7/site-packages/sklearn/model_selection/_validation.py:552: FitFailedWarning: Estimator fit failed. The score on this train-test partition for these parameters will be set to nan. Details: \n",
      "Traceback (most recent call last):\n",
      "  File \"/Users/kouheiadachi/.pyenv/versions/3.7.7/envs/new_3.7/lib/python3.7/site-packages/sklearn/model_selection/_validation.py\", line 531, in _fit_and_score\n",
      "    estimator.fit(X_train, y_train, **fit_params)\n",
      "  File \"/Users/kouheiadachi/.pyenv/versions/3.7.7/envs/new_3.7/lib/python3.7/site-packages/sklearn/ensemble/_forest.py\", line 304, in fit\n",
      "    accept_sparse=\"csc\", dtype=DTYPE)\n",
      "  File \"/Users/kouheiadachi/.pyenv/versions/3.7.7/envs/new_3.7/lib/python3.7/site-packages/sklearn/base.py\", line 432, in _validate_data\n",
      "    X, y = check_X_y(X, y, **check_params)\n",
      "  File \"/Users/kouheiadachi/.pyenv/versions/3.7.7/envs/new_3.7/lib/python3.7/site-packages/sklearn/utils/validation.py\", line 73, in inner_f\n",
      "    return f(**kwargs)\n",
      "  File \"/Users/kouheiadachi/.pyenv/versions/3.7.7/envs/new_3.7/lib/python3.7/site-packages/sklearn/utils/validation.py\", line 803, in check_X_y\n",
      "    estimator=estimator)\n",
      "  File \"/Users/kouheiadachi/.pyenv/versions/3.7.7/envs/new_3.7/lib/python3.7/site-packages/sklearn/utils/validation.py\", line 73, in inner_f\n",
      "    return f(**kwargs)\n",
      "  File \"/Users/kouheiadachi/.pyenv/versions/3.7.7/envs/new_3.7/lib/python3.7/site-packages/sklearn/utils/validation.py\", line 642, in check_array\n",
      "    % (array.ndim, estimator_name))\n",
      "ValueError: Found array with dim 3. Estimator expected <= 2.\n",
      "\n",
      "  FitFailedWarning)\n"
     ]
    }
   ],
   "source": [
    "clf = RandomForestClassifier(n_estimators = 500,n_jobs = -1)\n",
    "scores = cross_val_score(clf, X, y, cv=3)\n",
    "print('score:{:.3f} (+/-{:.3f})'.format(scores.mean(), scores.std()*2))"
   ]
  },
  {
   "cell_type": "code",
   "execution_count": null,
   "metadata": {},
   "outputs": [],
   "source": []
  }
 ],
 "metadata": {
  "kernelspec": {
   "display_name": "Python 3",
   "language": "python",
   "name": "python3"
  },
  "language_info": {
   "codemirror_mode": {
    "name": "ipython",
    "version": 3
   },
   "file_extension": ".py",
   "mimetype": "text/x-python",
   "name": "python",
   "nbconvert_exporter": "python",
   "pygments_lexer": "ipython3",
   "version": "3.7.7"
  }
 },
 "nbformat": 4,
 "nbformat_minor": 4
}
