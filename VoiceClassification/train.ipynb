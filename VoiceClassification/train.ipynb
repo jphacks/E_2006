{
 "cells": [
  {
   "cell_type": "code",
   "execution_count": 4,
   "metadata": {},
   "outputs": [],
   "source": [
    "import wave\n",
    "import soundfile as sf\n",
    "import pandas as pd\n",
    "import numpy as np\n",
    "from glob import glob"
   ]
  },
  {
   "cell_type": "code",
   "execution_count": 2,
   "metadata": {},
   "outputs": [],
   "source": [
    "from sklearn.ensemble import RandomForestClassifier\n",
    "from sklearn.model_selection import cross_val_score"
   ]
  },
  {
   "cell_type": "code",
   "execution_count": 9,
   "metadata": {},
   "outputs": [],
   "source": [
    "yes_file_list = glob(\"data/yes*\")\n",
    "no_file_list = glob(\"data/no*\")\n",
    "category_list = [0 for _ in range(len(no_file_list))] + [1 for _ in range(len(yes_file_list))]"
   ]
  },
  {
   "cell_type": "code",
   "execution_count": 11,
   "metadata": {},
   "outputs": [],
   "source": [
    "file_list =  no_file_list + yes_file_list"
   ]
  },
  {
   "cell_type": "code",
   "execution_count": 17,
   "metadata": {},
   "outputs": [],
   "source": [
    "X = []\n",
    "y = []\n",
    "for file,category in zip(file_list,category_list):\n",
    "    file_sf,_ = sf.read(file)\n",
    "    file_sf = np.array(file_sf[:, 0])\n",
    "    X.append(file_sf)\n",
    "    y.append(category)"
   ]
  },
  {
   "cell_type": "code",
   "execution_count": 18,
   "metadata": {},
   "outputs": [],
   "source": [
    "X = np.array(X)\n",
    "y = np.array(y)\n",
    "X_fft = np.array([np.fft.fft(x) for x in X])\n",
    "X_fft = np.fft.fft(X)\n",
    "X = np.array(\n",
    "    [np.hstack((x.real**2 + x.imag**2, np.arctan2(x.real, x.imag))) for x in X_fft])"
   ]
  },
  {
   "cell_type": "code",
   "execution_count": 21,
   "metadata": {},
   "outputs": [
    {
     "name": "stdout",
     "output_type": "stream",
     "text": [
      "score:1.000 (+/-0.000)\n"
     ]
    }
   ],
   "source": [
    "clf = RandomForestClassifier(n_estimators = 500,n_jobs = -1)\n",
    "scores = cross_val_score(clf, X, y, cv=5)\n",
    "print('score:{:.3f} (+/-{:.3f})'.format(scores.mean(), scores.std()*2))"
   ]
  },
  {
   "cell_type": "code",
   "execution_count": null,
   "metadata": {},
   "outputs": [],
   "source": []
  }
 ],
 "metadata": {
  "kernelspec": {
   "display_name": "Python 3",
   "language": "python",
   "name": "python3"
  },
  "language_info": {
   "codemirror_mode": {
    "name": "ipython",
    "version": 3
   },
   "file_extension": ".py",
   "mimetype": "text/x-python",
   "name": "python",
   "nbconvert_exporter": "python",
   "pygments_lexer": "ipython3",
   "version": "3.7.7"
  }
 },
 "nbformat": 4,
 "nbformat_minor": 4
}
